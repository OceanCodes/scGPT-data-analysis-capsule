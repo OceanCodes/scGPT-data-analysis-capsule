{
 "cells": [
  {
   "cell_type": "code",
   "execution_count": 30,
   "metadata": {},
   "outputs": [],
   "source": [
    "# ! pip install mlflow -q"
   ]
  },
  {
   "cell_type": "markdown",
   "metadata": {},
   "source": [
    "# Import required libraries, data and results"
   ]
  },
  {
   "cell_type": "code",
   "execution_count": 28,
   "metadata": {},
   "outputs": [],
   "source": [
    "import numpy as np\n",
    "import pandas as pd\n",
    "import pickle\n",
    "import anndata\n",
    "import xgboost\n",
    "from pathlib import Path\n",
    "\n",
    "base_dataset_path = \"/data/perturbation_bining_colon_epothelial_take_7/base_dataset.h5ad\"\n",
    "control_data_path = \"/data/perturbation_bining_colon_epothelial_take_7/perturbation_experiment_JUND_level_1.0.embeddings.npz\"\n",
    "knockout_data_path = \"/data/perturbation_bining_colon_epothelial_take_7/perturbation_experiment_JUND_level_0.embeddings.npz\"\n",
    "\n",
    "# load the datasets\n",
    "if not \"adata\" in locals():\n",
    "    adata = anndata.read_h5ad(base_dataset_path)\n",
    "    control_embedding = np.load(control_data_path)[\"emb\"]\n",
    "    ko_embedding = np.load(knockout_data_path)[\"emb\"]"
   ]
  },
  {
   "cell_type": "code",
   "execution_count": null,
   "metadata": {},
   "outputs": [],
   "source": [
    "print(f\"The reaults from the scGPT capsule: embeddings CELL x Vector {ko_embedding.shape} matrix\")\n",
    "ko_embedding"
   ]
  },
  {
   "cell_type": "code",
   "execution_count": 42,
   "metadata": {},
   "outputs": [
    {
     "name": "stdout",
     "output_type": "stream",
     "text": [
      "Single-cell transcriptomics data shape: cells: 97,788, genes: 27,289\n",
      "control ('WT')  embedding shape:        cells: 97,788 features: 512\n",
      "KnockOut ('KO') embedding shape:        cells: 97,788 features: 512\n"
     ]
    }
   ],
   "source": [
    "print(f\"Single-cell transcriptomics data shape: cells: {adata.shape[0]:,}, genes: {adata.shape[1]:,}\")\n",
    "print(f\"control ('WT')  embedding shape:        cells: {control_embedding.shape[0]:,} features: {control_embedding.shape[1]}\")\n",
    "print(f\"KnockOut ('KO') embedding shape:        cells: {ko_embedding.shape[0]:,} features: {ko_embedding.shape[1]}\")"
   ]
  },
  {
   "cell_type": "code",
   "execution_count": 46,
   "metadata": {},
   "outputs": [
    {
     "name": "stdout",
     "output_type": "stream",
     "text": [
      "The main metdata of the cell transcriptomics dataset\n"
     ]
    },
    {
     "data": {
      "text/html": [
       "<div>\n",
       "<style scoped>\n",
       "    .dataframe tbody tr th:only-of-type {\n",
       "        vertical-align: middle;\n",
       "    }\n",
       "\n",
       "    .dataframe tbody tr th {\n",
       "        vertical-align: top;\n",
       "    }\n",
       "\n",
       "    .dataframe thead th {\n",
       "        text-align: right;\n",
       "    }\n",
       "</style>\n",
       "<table border=\"1\" class=\"dataframe\">\n",
       "  <thead>\n",
       "    <tr style=\"text-align: right;\">\n",
       "      <th></th>\n",
       "      <th>cell_type</th>\n",
       "      <th>development_stage</th>\n",
       "      <th>tissue</th>\n",
       "      <th>disease</th>\n",
       "    </tr>\n",
       "    <tr>\n",
       "      <th>cell_id</th>\n",
       "      <th></th>\n",
       "      <th></th>\n",
       "      <th></th>\n",
       "      <th></th>\n",
       "    </tr>\n",
       "  </thead>\n",
       "  <tbody>\n",
       "    <tr>\n",
       "      <th>N110204_E-ATATCCTTCGCTCTAC</th>\n",
       "      <td>goblet cell</td>\n",
       "      <td>third decade human stage</td>\n",
       "      <td>colonic epithelium</td>\n",
       "      <td>Crohn disease</td>\n",
       "    </tr>\n",
       "    <tr>\n",
       "      <th>N130084_E-CCTCAACTCTTGGTGA</th>\n",
       "      <td>goblet cell</td>\n",
       "      <td>fifth decade human stage</td>\n",
       "      <td>colonic epithelium</td>\n",
       "      <td>Crohn disease</td>\n",
       "    </tr>\n",
       "    <tr>\n",
       "      <th>N18_Epi_A-ACCACGCTTGAGCT</th>\n",
       "      <td>enterocyte</td>\n",
       "      <td>human adult stage</td>\n",
       "      <td>transverse colon</td>\n",
       "      <td>normal</td>\n",
       "    </tr>\n",
       "    <tr>\n",
       "      <th>N15_Epi_B-CAGAGGGAGTTGTG</th>\n",
       "      <td>enterocyte</td>\n",
       "      <td>human adult stage</td>\n",
       "      <td>right colon</td>\n",
       "      <td>normal</td>\n",
       "    </tr>\n",
       "    <tr>\n",
       "      <th>N164969_E-AGCTCAAAGTAACCTC</th>\n",
       "      <td>enterocyte</td>\n",
       "      <td>sixth decade human stage</td>\n",
       "      <td>colonic epithelium</td>\n",
       "      <td>Crohn disease</td>\n",
       "    </tr>\n",
       "    <tr>\n",
       "      <th>...</th>\n",
       "      <td>...</td>\n",
       "      <td>...</td>\n",
       "      <td>...</td>\n",
       "      <td>...</td>\n",
       "    </tr>\n",
       "    <tr>\n",
       "      <th>N51_Epi_B-TCGGTAAGTCCAGTGC</th>\n",
       "      <td>enterocyte</td>\n",
       "      <td>human adult stage</td>\n",
       "      <td>caecum</td>\n",
       "      <td>normal</td>\n",
       "    </tr>\n",
       "    <tr>\n",
       "      <th>N114902_N-GCCTCTAGTGACGGTA</th>\n",
       "      <td>stem cell</td>\n",
       "      <td>fourth decade human stage</td>\n",
       "      <td>colon</td>\n",
       "      <td>Crohn disease</td>\n",
       "    </tr>\n",
       "    <tr>\n",
       "      <th>N10_Epi_B-CTCAGGCTATCACG</th>\n",
       "      <td>stem cell</td>\n",
       "      <td>human adult stage</td>\n",
       "      <td>right colon</td>\n",
       "      <td>normal</td>\n",
       "    </tr>\n",
       "    <tr>\n",
       "      <th>H180844_N1-GTAGGCCTCTGTACGA</th>\n",
       "      <td>enterocyte</td>\n",
       "      <td>seventh decade human stage</td>\n",
       "      <td>colon</td>\n",
       "      <td>normal</td>\n",
       "    </tr>\n",
       "    <tr>\n",
       "      <th>N15_Epi_B-CCAGAAACAGAACA</th>\n",
       "      <td>epithelial cell</td>\n",
       "      <td>human adult stage</td>\n",
       "      <td>right colon</td>\n",
       "      <td>normal</td>\n",
       "    </tr>\n",
       "  </tbody>\n",
       "</table>\n",
       "<p>97788 rows × 4 columns</p>\n",
       "</div>"
      ],
      "text/plain": [
       "                                   cell_type           development_stage  \\\n",
       "cell_id                                                                    \n",
       "N110204_E-ATATCCTTCGCTCTAC       goblet cell    third decade human stage   \n",
       "N130084_E-CCTCAACTCTTGGTGA       goblet cell    fifth decade human stage   \n",
       "N18_Epi_A-ACCACGCTTGAGCT          enterocyte           human adult stage   \n",
       "N15_Epi_B-CAGAGGGAGTTGTG          enterocyte           human adult stage   \n",
       "N164969_E-AGCTCAAAGTAACCTC        enterocyte    sixth decade human stage   \n",
       "...                                      ...                         ...   \n",
       "N51_Epi_B-TCGGTAAGTCCAGTGC        enterocyte           human adult stage   \n",
       "N114902_N-GCCTCTAGTGACGGTA         stem cell   fourth decade human stage   \n",
       "N10_Epi_B-CTCAGGCTATCACG           stem cell           human adult stage   \n",
       "H180844_N1-GTAGGCCTCTGTACGA       enterocyte  seventh decade human stage   \n",
       "N15_Epi_B-CCAGAAACAGAACA     epithelial cell           human adult stage   \n",
       "\n",
       "                                         tissue        disease  \n",
       "cell_id                                                         \n",
       "N110204_E-ATATCCTTCGCTCTAC   colonic epithelium  Crohn disease  \n",
       "N130084_E-CCTCAACTCTTGGTGA   colonic epithelium  Crohn disease  \n",
       "N18_Epi_A-ACCACGCTTGAGCT       transverse colon         normal  \n",
       "N15_Epi_B-CAGAGGGAGTTGTG            right colon         normal  \n",
       "N164969_E-AGCTCAAAGTAACCTC   colonic epithelium  Crohn disease  \n",
       "...                                         ...            ...  \n",
       "N51_Epi_B-TCGGTAAGTCCAGTGC               caecum         normal  \n",
       "N114902_N-GCCTCTAGTGACGGTA                colon  Crohn disease  \n",
       "N10_Epi_B-CTCAGGCTATCACG            right colon         normal  \n",
       "H180844_N1-GTAGGCCTCTGTACGA               colon         normal  \n",
       "N15_Epi_B-CCAGAAACAGAACA            right colon         normal  \n",
       "\n",
       "[97788 rows x 4 columns]"
      ]
     },
     "execution_count": 46,
     "metadata": {},
     "output_type": "execute_result"
    }
   ],
   "source": [
    "# explore the datasets\n",
    "print(\"The main metdata of the cell transcriptomics dataset\")\n",
    "adata.obs[[\"cell_type\", \"development_stage\", \"tissue\", \"disease\"]].sample(frac=1)"
   ]
  },
  {
   "cell_type": "markdown",
   "metadata": {},
   "source": [
    "# Train a model to seperate the Crohn's and Normal cells"
   ]
  },
  {
   "cell_type": "code",
   "execution_count": null,
   "metadata": {},
   "outputs": [],
   "source": [
    "# train a classifier on the control_embedding_data\n",
    "trained_model_path = \"xgboost_model.pkl\"\n",
    "\n",
    "if Path(trained_model_path).exists():\n",
    "    # load the trained model\n",
    "    with open(trained_model_path, \"rb\") as f:\n",
    "        model = pickle.load(f)\n",
    "\n",
    "else:\n",
    "    # convert the disease data to numerical:\n",
    "    disease_categories = pd.Categorical(adata.obs[\"disease\"]).codes\n",
    "    model = xgboost.XGBClassifier() # initialize the model\n",
    "    model.fit(control_embedding, disease_categories) # train the model\n",
    "    \n",
    "    # save the model\n",
    "    with open(trained_model_path, \"wb\") as f:\n",
    "        pickle.dump(model, f)\n",
    "\n",
    "model"
   ]
  },
  {
   "cell_type": "markdown",
   "metadata": {},
   "source": [
    "# Use the model and the results from scGPT to estimate the effect of KO on the Crohn's state"
   ]
  },
  {
   "cell_type": "code",
   "execution_count": null,
   "metadata": {},
   "outputs": [],
   "source": [
    "# get the cells' metadata\n",
    "result = adata.obs[[\"tissue\",\"cell_type\", \"disease\"]].copy()\n",
    "result.sample(10)"
   ]
  },
  {
   "cell_type": "code",
   "execution_count": null,
   "metadata": {},
   "outputs": [],
   "source": [
    "# get the probability of chron's disease for each cell, based on the model:\n",
    "result[\"control_prediction\"] = model.predict_proba(control_embedding)[:, 1]\n",
    "\n",
    "# visualize:\n",
    "(\n",
    "    result.sample(10, random_state=23)\n",
    "    .style.format(\"{:.3f}\", subset=[\"control_prediction\"])\n",
    "    .background_gradient(subset=[\"control_prediction\"], cmap=\"coolwarm\")\n",
    ")\n"
   ]
  },
  {
   "cell_type": "code",
   "execution_count": null,
   "metadata": {},
   "outputs": [],
   "source": [
    "result[\"ko_prediction\"] = model.predict_proba(ko_embedding)[:, 1]\n",
    "\n",
    "# visualize:\n",
    "(\n",
    "    result.sample(10, random_state=23)\n",
    "    .style.format(\"{:.3f}\", subset=[\"control_prediction\",'ko_prediction'])\n",
    "    .background_gradient(subset=[\"control_prediction\",'ko_prediction'], cmap=\"coolwarm\")\n",
    ")\n"
   ]
  },
  {
   "cell_type": "code",
   "execution_count": null,
   "metadata": {},
   "outputs": [],
   "source": [
    "result[\"delta\"] = result[\"control_prediction\"] - result[\"ko_prediction\"]\n",
    "(\n",
    "    result.sample(10, random_state=23)\n",
    "    .style.format(\"{:.3f}\", subset=[\"control_prediction\", \"ko_prediction\", \"delta\"])\n",
    "    .background_gradient(\n",
    "        subset=[\"control_prediction\", \"ko_prediction\", \"delta\"], cmap=\"coolwarm\"\n",
    "    )\n",
    ")\n"
   ]
  }
 ],
 "metadata": {
  "kernelspec": {
   "display_name": "base",
   "language": "python",
   "name": "python3"
  },
  "language_info": {
   "codemirror_mode": {
    "name": "ipython",
    "version": 3
   },
   "file_extension": ".py",
   "mimetype": "text/x-python",
   "name": "python",
   "nbconvert_exporter": "python",
   "pygments_lexer": "ipython3",
   "version": "3.10.9"
  },
  "orig_nbformat": 4,
  "vscode": {
   "interpreter": {
    "hash": "d4d1e4263499bec80672ea0156c357c1ee493ec2b1c70f0acce89fc37c4a6abe"
   }
  }
 },
 "nbformat": 4,
 "nbformat_minor": 2
}
