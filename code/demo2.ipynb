{
 "cells": [
  {
   "cell_type": "code",
   "execution_count": 1,
   "metadata": {},
   "outputs": [],
   "source": [
    "import numpy as np\n",
    "import pandas as pd\n",
    "import anndata\n",
    "\n",
    "input_dataset_path = \"/data/perturbation_bining_colon_epothelial_take_7/base_dataset.h5ad\"\n",
    "control_embedding_path = \"/data/perturbation_bining_colon_epothelial_take_7/perturbation_experiment_JUND_level_1.0.embeddings.npz\"\n",
    "\n",
    "# load the datasets\n",
    "adata = anndata.read_h5ad(input_dataset_path)\n",
    "control_embedding = np.load(control_embedding_path)[\"emb\"]\n",
    "colon_index = adata.obs.reset_index().query(\"tissue == 'colon'\").index.tolist()"
   ]
  },
  {
   "cell_type": "code",
   "execution_count": 5,
   "metadata": {},
   "outputs": [
    {
     "name": "stdout",
     "output_type": "stream",
     "text": [
      "accuracy = 0.8627721878914774 +/- 0.09676444429667039\n"
     ]
    }
   ],
   "source": [
    "# score cross validation of xgboost classifier for 'disease' state with embeddings\n",
    "from sklearn.model_selection import cross_val_score\n",
    "from xgboost import XGBClassifier\n",
    "x = control_embedding[colon_index]\n",
    "y = adata.obs[\"disease\"].values[colon_index]\n",
    "# y need to be categorical codes:\n",
    "y = pd.Categorical(y).codes\n",
    "\n",
    "scores = cross_val_score(XGBClassifier(), x, y, cv=5, scoring=\"accuracy\")\n",
    "print(f\"accuracy = {scores.mean()} +/- {scores.std()}\")"
   ]
  }
 ],
 "metadata": {
  "kernelspec": {
   "display_name": "base",
   "language": "python",
   "name": "python3"
  },
  "language_info": {
   "codemirror_mode": {
    "name": "ipython",
    "version": 3
   },
   "file_extension": ".py",
   "mimetype": "text/x-python",
   "name": "python",
   "nbconvert_exporter": "python",
   "pygments_lexer": "ipython3",
   "version": "3.10.9"
  },
  "orig_nbformat": 4,
  "vscode": {
   "interpreter": {
    "hash": "d4d1e4263499bec80672ea0156c357c1ee493ec2b1c70f0acce89fc37c4a6abe"
   }
  }
 },
 "nbformat": 4,
 "nbformat_minor": 2
}
