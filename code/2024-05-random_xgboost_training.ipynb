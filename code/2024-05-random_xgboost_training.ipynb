{
 "cells": [
  {
   "cell_type": "code",
   "execution_count": 2,
   "metadata": {},
   "outputs": [],
   "source": [
    "import anndata\n",
    "import umap\n",
    "import xgboost\n",
    "import numpy as np\n",
    "import pandas as pd\n",
    "from pathlib import Path\n",
    "from tqdm import tqdm\n",
    "import pickle\n",
    "import seaborn as sns\n",
    "import plotly.express as px\n",
    "import matplotlib.pyplot as plt\n",
    "from IPython.display import display, Image, HTML\n",
    "import mlflow\n",
    "import re\n",
    "from sklearn.model_selection import cross_val_score\n",
    "regex = re.compile(r\"perturbation_experiment_([^_]+)_level\")\n",
    "\n",
    "# base definition and original adata:\n",
    "if not \"adata\" in locals():\n",
    "    levels = [\"0\", \"0.5\", \"1.0\"]\n",
    "    data_dir = \"/data/gene_perturbation_colon_epithelial_scGPT_with_binning_1\"\n",
    "    file_pattern = data_dir + \"/perturbation_experiment_{gene}_level_{level}\"\n",
    "    base_fname = file_pattern.format(gene = \"JUND\", level = \"1.0\")\n",
    "    base_embeddings = np.load(f\"{base_fname}.embeddings.npy\")\n",
    "    adata = anndata.read_h5ad(f\"{base_fname}.h5ad\")\n",
    "    base_df = adata.obs[[\"tissue\", \"cell_type\", 'sex', 'development_stage',\"disease\"]].copy()"
   ]
  },
  {
   "cell_type": "code",
   "execution_count": 3,
   "metadata": {},
   "outputs": [
    {
     "name": "stdout",
     "output_type": "stream",
     "text": [
      "False\n",
      "(97788, 512) (97788, 512)\n",
      "training model\n",
      "training shuffled model\n",
      "accuracy model: 0.7442941876335241 +/- 0.041455252915455834\n",
      "accuracy model shuffled: 0.516944825795031 +/- 0.001544958301107402\n"
     ]
    }
   ],
   "source": [
    "import xgboost\n",
    "x = base_embeddings\n",
    "\n",
    "# shuffle the x on the y axis:\n",
    "shuffled_x = x.copy()\n",
    "np.random.shuffle(shuffled_x)\n",
    "y = pd.Categorical(base_df[\"disease\"]).codes\n",
    "print(np.all(shuffled_x == x))\n",
    "print(x.shape, shuffled_x.shape)\n",
    "\n",
    "print(\"training model\")\n",
    "cv_model = cross_val_score(xgboost.XGBClassifier(), x, y, cv=5, scoring=\"accuracy\", n_jobs=5)\n",
    "print(\"training shuffled model\")\n",
    "cv_model_shuffled = cross_val_score(xgboost.XGBClassifier(), shuffled_x, y, cv=5, scoring=\"accuracy\", n_jobs=5)\n",
    "\n",
    "print(f\"accuracy model: {cv_model.mean()} +/- {cv_model.std()}\")\n",
    "print(f\"accuracy model shuffled: {cv_model_shuffled.mean()} +/- {cv_model_shuffled.std()}\")\n"
   ]
  },
  {
   "cell_type": "code",
   "execution_count": null,
   "metadata": {},
   "outputs": [],
   "source": []
  }
 ],
 "metadata": {
  "kernelspec": {
   "display_name": "base",
   "language": "python",
   "name": "python3"
  },
  "language_info": {
   "codemirror_mode": {
    "name": "ipython",
    "version": 3
   },
   "file_extension": ".py",
   "mimetype": "text/x-python",
   "name": "python",
   "nbconvert_exporter": "python",
   "pygments_lexer": "ipython3",
   "version": "3.10.9"
  },
  "orig_nbformat": 4,
  "vscode": {
   "interpreter": {
    "hash": "d4d1e4263499bec80672ea0156c357c1ee493ec2b1c70f0acce89fc37c4a6abe"
   }
  }
 },
 "nbformat": 4,
 "nbformat_minor": 2
}
